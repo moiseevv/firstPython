{
 "cells": [
  {
   "cell_type": "code",
   "execution_count": 1,
   "id": "e03c8ebf-3444-48bd-a90b-e19d9e558116",
   "metadata": {},
   "outputs": [],
   "source": [
    "color_names = [1,2,3]"
   ]
  },
  {
   "cell_type": "code",
   "execution_count": 3,
   "id": "12078d2b-5dfb-4ca6-8714-c8c03ad3c151",
   "metadata": {},
   "outputs": [],
   "source": [
    "copied_list = color_names.copy()"
   ]
  },
  {
   "cell_type": "code",
   "execution_count": 11,
   "id": "3a89ed70-b217-497d-8a3e-e484581eeb5f",
   "metadata": {},
   "outputs": [
    {
     "data": {
      "text/plain": [
       "True"
      ]
     },
     "execution_count": 11,
     "metadata": {},
     "output_type": "execute_result"
    }
   ],
   "source": [
    "l1 is copied_list"
   ]
  },
  {
   "cell_type": "code",
   "execution_count": 7,
   "id": "9e275b98-a866-47ce-9f0a-19a763432ef2",
   "metadata": {},
   "outputs": [],
   "source": [
    "l1 = copied_list"
   ]
  },
  {
   "cell_type": "code",
   "execution_count": 14,
   "id": "a92906d1-4da6-4178-b6a5-bfd6265e211c",
   "metadata": {},
   "outputs": [],
   "source": [
    "list2 = [item for item in range(1, 6+1)]"
   ]
  },
  {
   "cell_type": "code",
   "execution_count": 15,
   "id": "14f206b3-2a1a-4398-9257-e6e4e5c8f8a1",
   "metadata": {},
   "outputs": [
    {
     "data": {
      "text/plain": [
       "[1, 2, 3, 4, 5, 6]"
      ]
     },
     "execution_count": 15,
     "metadata": {},
     "output_type": "execute_result"
    }
   ],
   "source": [
    "list2"
   ]
  },
  {
   "cell_type": "code",
   "execution_count": 29,
   "id": "89a930e6-8f17-49e2-9bec-1d320df20743",
   "metadata": {},
   "outputs": [],
   "source": [
    "def is_odd(x):\n",
    "    return x*2"
   ]
  },
  {
   "cell_type": "code",
   "execution_count": 30,
   "id": "836c0de9-e8a5-4d70-a19d-fd9c28ad5309",
   "metadata": {
    "tags": []
   },
   "outputs": [
    {
     "data": {
      "text/plain": [
       "[10, 3, 7, 1, 9, 4, 2, 8, 5, 6]"
      ]
     },
     "execution_count": 30,
     "metadata": {},
     "output_type": "execute_result"
    }
   ],
   "source": [
    "[item for item in numbers if is_odd(item)]"
   ]
  },
  {
   "cell_type": "code",
   "execution_count": 31,
   "id": "67c70f0b-e800-45f6-8910-0901c14cc585",
   "metadata": {},
   "outputs": [
    {
     "data": {
      "text/plain": [
       "[1, 3, 5]"
      ]
     },
     "execution_count": 31,
     "metadata": {},
     "output_type": "execute_result"
    }
   ],
   "source": [
    "list(filter(lambda x: x % 2 != 0, list2))"
   ]
  },
  {
   "cell_type": "code",
   "execution_count": 18,
   "id": "c129f974-830d-4ff6-8f4d-4709d0a46f77",
   "metadata": {},
   "outputs": [],
   "source": [
    "numbers  = [10, 3, 7, 1, 9, 4, 2, 8, 5, 6]"
   ]
  },
  {
   "cell_type": "code",
   "execution_count": 19,
   "id": "04aa966d-bdab-4864-be72-a93be8f307f8",
   "metadata": {},
   "outputs": [
    {
     "data": {
      "text/plain": [
       "[100, 9, 49, 1, 81, 16, 4, 64, 25, 36]"
      ]
     },
     "execution_count": 19,
     "metadata": {},
     "output_type": "execute_result"
    }
   ],
   "source": [
    "list(map(lambda x: x ** 2, numbers))"
   ]
  },
  {
   "cell_type": "code",
   "execution_count": 20,
   "id": "8dc445c0-e4c8-47d7-8dad-3db71881e3a7",
   "metadata": {},
   "outputs": [
    {
     "data": {
      "text/plain": [
       "[100, 9, 49, 1, 81, 16, 4, 64, 25, 36]"
      ]
     },
     "execution_count": 20,
     "metadata": {},
     "output_type": "execute_result"
    }
   ],
   "source": [
    "[item ** 2 for item in numbers]"
   ]
  },
  {
   "cell_type": "code",
   "execution_count": 21,
   "id": "4df731b9-6760-4fcd-b3db-55e89c0b1e76",
   "metadata": {},
   "outputs": [
    {
     "data": {
      "text/plain": [
       "[9, 49, 1, 81, 25]"
      ]
     },
     "execution_count": 21,
     "metadata": {},
     "output_type": "execute_result"
    }
   ],
   "source": [
    "list(map(lambda x: x ** 2, filter(lambda x: x % 2 != 0, numbers)))"
   ]
  },
  {
   "cell_type": "code",
   "execution_count": 22,
   "id": "009512e2-a2ad-4b1b-b669-1ca474ca5629",
   "metadata": {},
   "outputs": [
    {
     "data": {
      "text/plain": [
       "[9, 49, 1, 81, 25]"
      ]
     },
     "execution_count": 22,
     "metadata": {},
     "output_type": "execute_result"
    }
   ],
   "source": [
    "[x ** 2 for x in numbers if x % 2 != 0]"
   ]
  },
  {
   "cell_type": "code",
   "execution_count": 23,
   "id": "f8962103-dc68-4a08-9fdd-e6d6b5fab363",
   "metadata": {},
   "outputs": [
    {
     "data": {
      "text/plain": [
       "True"
      ]
     },
     "execution_count": 23,
     "metadata": {},
     "output_type": "execute_result"
    }
   ],
   "source": [
    "'Red' < 'orange'"
   ]
  },
  {
   "cell_type": "code",
   "execution_count": 24,
   "id": "ef4d098d-458b-41f3-ae4f-96a5740247f9",
   "metadata": {},
   "outputs": [
    {
     "data": {
      "text/plain": [
       "82"
      ]
     },
     "execution_count": 24,
     "metadata": {},
     "output_type": "execute_result"
    }
   ],
   "source": [
    "ord('R')"
   ]
  },
  {
   "cell_type": "code",
   "execution_count": 25,
   "id": "3311a245-b013-410c-b144-39087f6cd4d2",
   "metadata": {},
   "outputs": [
    {
     "data": {
      "text/plain": [
       "111"
      ]
     },
     "execution_count": 25,
     "metadata": {},
     "output_type": "execute_result"
    }
   ],
   "source": [
    "ord('o')"
   ]
  },
  {
   "cell_type": "code",
   "execution_count": 28,
   "id": "96bf8dd7-258c-40b3-bcd4-ff302b97d34e",
   "metadata": {},
   "outputs": [
    {
     "name": "stdout",
     "output_type": "stream",
     "text": [
      "Name=ABob; GPA=3.5\n",
      "Name=Sue; GPA=5.0\n",
      "Name=Amanda; GPA=3.75\n"
     ]
    }
   ],
   "source": [
    "names = ['ABob', 'Sue', 'Amanda']\n",
    "grade_point_averages = [3.5, 5.0, 3.75]\n",
    "for name, gpa in zip(names, grade_point_averages):\n",
    "    print(f'Name={name}; GPA={gpa}')"
   ]
  },
  {
   "cell_type": "code",
   "execution_count": null,
   "id": "f684b13b-9fbc-4d2a-8fc3-c65a1dc69a19",
   "metadata": {},
   "outputs": [],
   "source": []
  }
 ],
 "metadata": {
  "kernelspec": {
   "display_name": "Python 3 (ipykernel)",
   "language": "python",
   "name": "python3"
  },
  "language_info": {
   "codemirror_mode": {
    "name": "ipython",
    "version": 3
   },
   "file_extension": ".py",
   "mimetype": "text/x-python",
   "name": "python",
   "nbconvert_exporter": "python",
   "pygments_lexer": "ipython3",
   "version": "3.10.8"
  }
 },
 "nbformat": 4,
 "nbformat_minor": 5
}
