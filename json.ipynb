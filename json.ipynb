{
 "cells": [
  {
   "cell_type": "code",
   "execution_count": 1,
   "id": "5060c301",
   "metadata": {},
   "outputs": [],
   "source": [
    "import json"
   ]
  },
  {
   "cell_type": "code",
   "execution_count": 7,
   "id": "6605ba06",
   "metadata": {},
   "outputs": [],
   "source": [
    "accounts_dict = [{'account': 100, 'name': 'Jones', 'balance': 24.98},{'account': 200, 'name': 'Doe', 'balance': 345.67}]"
   ]
  },
  {
   "cell_type": "code",
   "execution_count": 8,
   "id": "08444f1f",
   "metadata": {},
   "outputs": [],
   "source": [
    "with open('mal.json','w') as file:\n",
    "    json.dump(accounts_dict, file)"
   ]
  },
  {
   "cell_type": "code",
   "execution_count": 9,
   "id": "165b9114",
   "metadata": {},
   "outputs": [],
   "source": [
    "with open('mal.json','r') as file2:\n",
    "    kl = json.load(file2)"
   ]
  },
  {
   "cell_type": "code",
   "execution_count": 10,
   "id": "3a8b8102",
   "metadata": {},
   "outputs": [
    {
     "data": {
      "text/plain": [
       "[{'account': 100, 'name': 'Jones', 'balance': 24.98},\n",
       " {'account': 200, 'name': 'Doe', 'balance': 345.67}]"
      ]
     },
     "execution_count": 10,
     "metadata": {},
     "output_type": "execute_result"
    }
   ],
   "source": [
    "kl"
   ]
  },
  {
   "cell_type": "code",
   "execution_count": 11,
   "id": "09c00810",
   "metadata": {},
   "outputs": [
    {
     "data": {
      "text/plain": [
       "list"
      ]
     },
     "execution_count": 11,
     "metadata": {},
     "output_type": "execute_result"
    }
   ],
   "source": [
    "type(kl)"
   ]
  },
  {
   "cell_type": "code",
   "execution_count": 12,
   "id": "05b277e5",
   "metadata": {},
   "outputs": [
    {
     "data": {
      "text/plain": [
       "dict"
      ]
     },
     "execution_count": 12,
     "metadata": {},
     "output_type": "execute_result"
    }
   ],
   "source": [
    "type(kl[0])"
   ]
  },
  {
   "cell_type": "code",
   "execution_count": null,
   "id": "34ecf5d6",
   "metadata": {},
   "outputs": [],
   "source": []
  }
 ],
 "metadata": {
  "kernelspec": {
   "display_name": "Python 3",
   "language": "python",
   "name": "python3"
  },
  "language_info": {
   "codemirror_mode": {
    "name": "ipython",
    "version": 3
   },
   "file_extension": ".py",
   "mimetype": "text/x-python",
   "name": "python",
   "nbconvert_exporter": "python",
   "pygments_lexer": "ipython3",
   "version": "3.8.8"
  }
 },
 "nbformat": 4,
 "nbformat_minor": 5
}
