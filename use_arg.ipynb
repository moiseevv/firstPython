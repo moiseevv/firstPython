{
 "cells": [
  {
   "cell_type": "code",
   "execution_count": 1,
   "id": "639371c1",
   "metadata": {},
   "outputs": [
    {
     "name": "stdout",
     "output_type": "stream",
     "text": [
      "Welcome\n",
      "to\n",
      "\n",
      "Python!\n"
     ]
    }
   ],
   "source": [
    "print('Welcome\\nto\\n\\nPython!')"
   ]
  },
  {
   "cell_type": "code",
   "execution_count": 2,
   "id": "7b704a41",
   "metadata": {},
   "outputs": [
    {
     "name": "stdout",
     "output_type": "stream",
     "text": [
      "Display \"hi\" and 'bye' in quotes\n"
     ]
    }
   ],
   "source": [
    "print(\"\"\"Display \"hi\" and 'bye' in quotes\"\"\")"
   ]
  },
  {
   "cell_type": "code",
   "execution_count": 14,
   "id": "35633e34",
   "metadata": {},
   "outputs": [
    {
     "data": {
      "text/plain": [
       "tuple"
      ]
     },
     "execution_count": 14,
     "metadata": {},
     "output_type": "execute_result"
    }
   ],
   "source": [
    "a=10,5\n",
    "type(a)"
   ]
  },
  {
   "cell_type": "code",
   "execution_count": 15,
   "id": "30e4fa59",
   "metadata": {},
   "outputs": [
    {
     "data": {
      "text/plain": [
       "(10, 5)"
      ]
     },
     "execution_count": 15,
     "metadata": {},
     "output_type": "execute_result"
    }
   ],
   "source": [
    "a"
   ]
  },
  {
   "cell_type": "code",
   "execution_count": 17,
   "id": "93ee8a5e",
   "metadata": {},
   "outputs": [
    {
     "data": {
      "text/plain": [
       "10"
      ]
     },
     "execution_count": 17,
     "metadata": {},
     "output_type": "execute_result"
    }
   ],
   "source": [
    "a[0]"
   ]
  },
  {
   "cell_type": "code",
   "execution_count": 18,
   "id": "9298c79d",
   "metadata": {},
   "outputs": [
    {
     "data": {
      "text/plain": [
       "12"
      ]
     },
     "execution_count": 18,
     "metadata": {},
     "output_type": "execute_result"
    }
   ],
   "source": [
    "min(36, 27, 12)"
   ]
  },
  {
   "cell_type": "code",
   "execution_count": 19,
   "id": "38215670",
   "metadata": {},
   "outputs": [
    {
     "data": {
      "text/plain": [
       "5"
      ]
     },
     "execution_count": 19,
     "metadata": {},
     "output_type": "execute_result"
    }
   ],
   "source": [
    "min(a)"
   ]
  },
  {
   "cell_type": "code",
   "execution_count": 21,
   "id": "0505c100",
   "metadata": {},
   "outputs": [
    {
     "name": "stdout",
     "output_type": "stream",
     "text": [
      "(10, 5)  <  >  20  <  >  30\n"
     ]
    }
   ],
   "source": [
    "print(a, 20, 30, sep='  <  >  ')"
   ]
  },
  {
   "cell_type": "code",
   "execution_count": 23,
   "id": "56cbc069",
   "metadata": {},
   "outputs": [
    {
     "name": "stdout",
     "output_type": "stream",
     "text": [
      "5\n",
      "6\n",
      "7\n",
      "8\n",
      "9\n",
      "10\n"
     ]
    }
   ],
   "source": [
    "for counter in range(5,10+1):\n",
    "    print(counter)"
   ]
  },
  {
   "cell_type": "code",
   "execution_count": 26,
   "id": "d3d8e984",
   "metadata": {},
   "outputs": [],
   "source": [
    "from decimal import Decimal"
   ]
  },
  {
   "cell_type": "code",
   "execution_count": 27,
   "id": "5bafaea2",
   "metadata": {},
   "outputs": [],
   "source": [
    "principal = Decimal('1000.00')"
   ]
  },
  {
   "cell_type": "code",
   "execution_count": 28,
   "id": "ab1eaace",
   "metadata": {},
   "outputs": [
    {
     "data": {
      "text/plain": [
       "Decimal('1000.00')"
      ]
     },
     "execution_count": 28,
     "metadata": {},
     "output_type": "execute_result"
    }
   ],
   "source": [
    "principal"
   ]
  },
  {
   "cell_type": "code",
   "execution_count": 34,
   "id": "af5d6933",
   "metadata": {},
   "outputs": [],
   "source": [
    "principal = principal+1"
   ]
  },
  {
   "cell_type": "code",
   "execution_count": 35,
   "id": "6dacd450",
   "metadata": {},
   "outputs": [
    {
     "data": {
      "text/plain": [
       "Decimal('1001.00')"
      ]
     },
     "execution_count": 35,
     "metadata": {},
     "output_type": "execute_result"
    }
   ],
   "source": [
    "principal"
   ]
  },
  {
   "cell_type": "code",
   "execution_count": 38,
   "id": "66a06789",
   "metadata": {},
   "outputs": [
    {
     "name": "stdout",
     "output_type": "stream",
     "text": [
      " 1               30.00\n",
      " 2              180.00\n",
      " 3             1080.00\n",
      " 4             6480.00\n",
      " 5            38880.00\n",
      " 6           233280.00\n",
      " 7          1399680.00\n",
      " 8          8398080.00\n",
      " 9         50388480.00\n",
      "10        302330880.00\n"
     ]
    }
   ],
   "source": [
    "for year in range(1, 11):\n",
    "    principal = 5\n",
    "    rate = 5\n",
    "    amount = principal * (1 + rate) ** year\n",
    "    print(f'{year:>2}{amount:>20.2f}')"
   ]
  },
  {
   "cell_type": "code",
   "execution_count": 39,
   "id": "1de14f2a",
   "metadata": {},
   "outputs": [
    {
     "name": "stdout",
     "output_type": "stream",
     "text": [
      "397\n",
      "5\n"
     ]
    }
   ],
   "source": [
    "grades = [85, 93, 45, 89, 85]\n",
    "print(sum(grades))\n",
    "print(len(grades))"
   ]
  },
  {
   "cell_type": "code",
   "execution_count": 50,
   "id": "a471d64e",
   "metadata": {},
   "outputs": [],
   "source": [
    "def aver(*ar):\n",
    "    '''Определение среднего'''\n",
    "    sum_a = sum(*ar)\n",
    "    len_a = len(*ar)\n",
    "    h = sum_a/len_a\n",
    "    return h"
   ]
  },
  {
   "cell_type": "code",
   "execution_count": 51,
   "id": "bf7c34e0",
   "metadata": {},
   "outputs": [
    {
     "data": {
      "text/plain": [
       "13.333333333333334"
      ]
     },
     "execution_count": 51,
     "metadata": {},
     "output_type": "execute_result"
    }
   ],
   "source": [
    "lis = [10,20,10]\n",
    "aver(lis)"
   ]
  },
  {
   "cell_type": "code",
   "execution_count": 44,
   "id": "8fd6921f",
   "metadata": {},
   "outputs": [
    {
     "data": {
      "text/plain": [
       "10.0"
      ]
     },
     "execution_count": 44,
     "metadata": {},
     "output_type": "execute_result"
    }
   ],
   "source": [
    "j = (10,10)\n",
    "aver(j)"
   ]
  },
  {
   "cell_type": "code",
   "execution_count": null,
   "id": "3ac42681",
   "metadata": {},
   "outputs": [],
   "source": []
  }
 ],
 "metadata": {
  "kernelspec": {
   "display_name": "Python 3",
   "language": "python",
   "name": "python3"
  },
  "language_info": {
   "codemirror_mode": {
    "name": "ipython",
    "version": 3
   },
   "file_extension": ".py",
   "mimetype": "text/x-python",
   "name": "python",
   "nbconvert_exporter": "python",
   "pygments_lexer": "ipython3",
   "version": "3.8.8"
  }
 },
 "nbformat": 4,
 "nbformat_minor": 5
}
