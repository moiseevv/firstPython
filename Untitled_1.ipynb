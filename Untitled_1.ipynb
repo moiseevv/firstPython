{
 "cells": [
  {
   "cell_type": "code",
   "execution_count": 15,
   "id": "87b4e236-58fe-4534-8104-cafbd0bcb2ce",
   "metadata": {},
   "outputs": [
    {
     "name": "stdout",
     "output_type": "stream",
     "text": [
      "Current Version of Python interpreter we are using- 3.10.8 (tags/v3.10.8:aaaf517, Oct 11 2022, 16:50:30) [MSC v.1933 64 bit (AMD64)]\n"
     ]
    }
   ],
   "source": [
    "import sys  \n",
    "# Getting interpreter version as a result \n",
    "print(\"Current Version of Python interpreter we are using-\", sys.version)"
   ]
  },
  {
   "cell_type": "code",
   "execution_count": 5,
   "id": "1028fb6d-7d7c-4069-9534-bdf74f40cc01",
   "metadata": {},
   "outputs": [
    {
     "data": {
      "text/plain": [
       "100"
      ]
     },
     "execution_count": 5,
     "metadata": {},
     "output_type": "execute_result"
    }
   ],
   "source": [
    "10**2"
   ]
  },
  {
   "cell_type": "code",
   "execution_count": 7,
   "id": "798f186d-4cf0-4aff-856d-2d2a39637b06",
   "metadata": {},
   "outputs": [
    {
     "data": {
      "text/plain": [
       "3"
      ]
     },
     "execution_count": 7,
     "metadata": {},
     "output_type": "execute_result"
    }
   ],
   "source": [
    "int(9**(1/2))"
   ]
  },
  {
   "cell_type": "code",
   "execution_count": 8,
   "id": "d8748644-eab9-4e0e-a229-4858f975e5c8",
   "metadata": {},
   "outputs": [
    {
     "data": {
      "text/plain": [
       "2"
      ]
     },
     "execution_count": 8,
     "metadata": {},
     "output_type": "execute_result"
    }
   ],
   "source": [
    "5//2"
   ]
  },
  {
   "cell_type": "code",
   "execution_count": 19,
   "id": "e6305a25-99cc-45a9-81cd-530ef5fe86a7",
   "metadata": {},
   "outputs": [],
   "source": [
    "def av(*ar):\n",
    "    sum_ar = sum(ar)\n",
    "    len_ar = len(ar)\n",
    "    result = sum_ar/len_ar\n",
    "    return result"
   ]
  },
  {
   "cell_type": "code",
   "execution_count": 65,
   "id": "3ab92fcf-3dfc-4a3e-84f6-9ba58d26fe91",
   "metadata": {},
   "outputs": [
    {
     "data": {
      "text/plain": [
       "2.0"
      ]
     },
     "execution_count": 65,
     "metadata": {},
     "output_type": "execute_result"
    }
   ],
   "source": [
    "df = [1,2,3]\n",
    "av(1,2,3)"
   ]
  },
  {
   "cell_type": "code",
   "execution_count": 66,
   "id": "18a88c13-a445-406d-8bfb-cb03f2554048",
   "metadata": {},
   "outputs": [
    {
     "data": {
      "text/plain": [
       "1"
      ]
     },
     "execution_count": 66,
     "metadata": {},
     "output_type": "execute_result"
    }
   ],
   "source": [
    "df[0]"
   ]
  },
  {
   "cell_type": "code",
   "execution_count": 68,
   "id": "dcea747d-8c32-4832-9b24-dd7732fee8f6",
   "metadata": {},
   "outputs": [
    {
     "data": {
      "text/plain": [
       "3"
      ]
     },
     "execution_count": 68,
     "metadata": {},
     "output_type": "execute_result"
    }
   ],
   "source": [
    "df[0+2]"
   ]
  },
  {
   "cell_type": "code",
   "execution_count": 29,
   "id": "e1a02b36-88dc-48c2-a50e-4cf8489586c3",
   "metadata": {},
   "outputs": [
    {
     "data": {
      "text/plain": [
       "1.9"
      ]
     },
     "execution_count": 29,
     "metadata": {},
     "output_type": "execute_result"
    }
   ],
   "source": [
    " df_2 = [1,2,2,2,2,2,2]\n",
    "av(*df_2, *df)"
   ]
  },
  {
   "cell_type": "code",
   "execution_count": 30,
   "id": "8452f63e-2139-4c21-b4ad-96e966fd774a",
   "metadata": {},
   "outputs": [],
   "source": [
    "i = 6"
   ]
  },
  {
   "cell_type": "code",
   "execution_count": 31,
   "id": "a56310df-a913-49c1-8de1-5c7a751f0492",
   "metadata": {},
   "outputs": [
    {
     "data": {
      "text/plain": [
       "2111452807568"
      ]
     },
     "execution_count": 31,
     "metadata": {},
     "output_type": "execute_result"
    }
   ],
   "source": [
    "id(i)"
   ]
  },
  {
   "cell_type": "code",
   "execution_count": 43,
   "id": "9b1ca221-b724-4666-a634-7878648ca92a",
   "metadata": {},
   "outputs": [],
   "source": [
    "y = 9"
   ]
  },
  {
   "cell_type": "code",
   "execution_count": 33,
   "id": "64c093c8-e018-4c91-b768-f87267f8f932",
   "metadata": {},
   "outputs": [
    {
     "data": {
      "text/plain": [
       "2111452807568"
      ]
     },
     "execution_count": 33,
     "metadata": {},
     "output_type": "execute_result"
    }
   ],
   "source": [
    "id(i)\n",
    "id(y)"
   ]
  },
  {
   "cell_type": "code",
   "execution_count": 44,
   "id": "86b3db87-e827-4534-a43d-1b352c0ffcbb",
   "metadata": {},
   "outputs": [
    {
     "name": "stdout",
     "output_type": "stream",
     "text": [
      "number is x: False\n"
     ]
    }
   ],
   "source": [
    "print('number is x:', i is y)"
   ]
  },
  {
   "cell_type": "code",
   "execution_count": 58,
   "id": "90886ec4-0779-407b-87bd-a955c5711a2c",
   "metadata": {},
   "outputs": [],
   "source": [
    "fact = 1\n",
    "def fl(n):\n",
    "    if n <=1:\n",
    "        return 1\n",
    "    else: r = n*fl(n-1)\n",
    "    \n",
    "    return r"
   ]
  },
  {
   "cell_type": "code",
   "execution_count": 62,
   "id": "9097a50a-9f54-4708-9153-1ef3372f2b15",
   "metadata": {},
   "outputs": [],
   "source": [
    "g = fl(5)"
   ]
  },
  {
   "cell_type": "code",
   "execution_count": 63,
   "id": "96657577-2fd4-4174-b545-2dd8f0089620",
   "metadata": {},
   "outputs": [
    {
     "data": {
      "text/plain": [
       "120"
      ]
     },
     "execution_count": 63,
     "metadata": {},
     "output_type": "execute_result"
    }
   ],
   "source": [
    "g"
   ]
  },
  {
   "cell_type": "code",
   "execution_count": 64,
   "id": "8052d8a4-46a1-4321-ac49-fb2262f3e3e7",
   "metadata": {},
   "outputs": [
    {
     "name": "stdout",
     "output_type": "stream",
     "text": [
      "1\n",
      "1\n",
      "2\n",
      "6\n",
      "24\n",
      "120\n",
      "720\n",
      "5040\n",
      "40320\n",
      "362880\n",
      "3628800\n",
      "39916800\n",
      "479001600\n",
      "6227020800\n"
     ]
    }
   ],
   "source": [
    "for i in range(0,14):\n",
    "    print(fl(i))"
   ]
  },
  {
   "cell_type": "code",
   "execution_count": 69,
   "id": "090c66e9-8edf-43a7-b6f0-f2b875070a63",
   "metadata": {},
   "outputs": [],
   "source": [
    "tumpl1 = (10,20,10)"
   ]
  },
  {
   "cell_type": "code",
   "execution_count": 70,
   "id": "1dcaa050-8f0d-439d-acc9-9e55237a26da",
   "metadata": {},
   "outputs": [],
   "source": [
    "tumple2 = (10,1,2)"
   ]
  },
  {
   "cell_type": "code",
   "execution_count": 71,
   "id": "66e387e4-5c3e-4105-8f1b-d5b38e83746c",
   "metadata": {},
   "outputs": [],
   "source": [
    "tumpl3 = tumple2+tumpl1"
   ]
  },
  {
   "cell_type": "code",
   "execution_count": 76,
   "id": "dc4c33f0-e853-40d9-8021-b9c20e923944",
   "metadata": {},
   "outputs": [
    {
     "name": "stdout",
     "output_type": "stream",
     "text": [
      "(10, 1, 2, 10, 20, 10)\n"
     ]
    }
   ],
   "source": [
    "print(tumpl3)"
   ]
  },
  {
   "cell_type": "code",
   "execution_count": 77,
   "id": "d6506ef6-3a6b-4ca9-aa01-23cbbbf9e108",
   "metadata": {},
   "outputs": [
    {
     "data": {
      "text/plain": [
       "[(0, 'red'), (1, 'orange'), (2, 'yellow')]"
      ]
     },
     "execution_count": 77,
     "metadata": {},
     "output_type": "execute_result"
    }
   ],
   "source": [
    "colors = ['red', 'orange', 'yellow']\n",
    "list(enumerate(colors))"
   ]
  },
  {
   "cell_type": "code",
   "execution_count": 79,
   "id": "a9ee3d53-a596-4ac8-b08e-a99e4fac9608",
   "metadata": {},
   "outputs": [],
   "source": [
    "sample_list = []\n",
    "s = 'abc'\n",
    "sample_list.extend(s)"
   ]
  },
  {
   "cell_type": "code",
   "execution_count": 83,
   "id": "44108327-34bb-47a0-b00e-26ae5913f618",
   "metadata": {},
   "outputs": [
    {
     "data": {
      "text/plain": [
       "['a', 'b', 'c', 1, 2, 3]"
      ]
     },
     "execution_count": 83,
     "metadata": {},
     "output_type": "execute_result"
    }
   ],
   "source": [
    "sample_list"
   ]
  },
  {
   "cell_type": "code",
   "execution_count": 81,
   "id": "178c30be-d83d-4dc6-a500-5a83be6313ac",
   "metadata": {},
   "outputs": [],
   "source": [
    "t = (1, 2, 3)"
   ]
  },
  {
   "cell_type": "code",
   "execution_count": 82,
   "id": "225baa50-fca0-422e-8b29-b723bc2786fd",
   "metadata": {},
   "outputs": [],
   "source": [
    "sample_list.extend(t)"
   ]
  },
  {
   "cell_type": "code",
   "execution_count": null,
   "id": "58d95999-17d9-4e08-b6c9-77bc6b5c0834",
   "metadata": {},
   "outputs": [],
   "source": []
  }
 ],
 "metadata": {
  "kernelspec": {
   "display_name": "Python 3 (ipykernel)",
   "language": "python",
   "name": "python3"
  },
  "language_info": {
   "codemirror_mode": {
    "name": "ipython",
    "version": 3
   },
   "file_extension": ".py",
   "mimetype": "text/x-python",
   "name": "python",
   "nbconvert_exporter": "python",
   "pygments_lexer": "ipython3",
   "version": "3.10.8"
  }
 },
 "nbformat": 4,
 "nbformat_minor": 5
}
